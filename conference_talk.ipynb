{
 "cells": [
  {
   "cell_type": "markdown",
   "metadata": {},
   "source": [
    "## This is a tool to support talk map"
   ]
  },
  {
   "cell_type": "code",
   "execution_count": 1,
   "metadata": {},
   "outputs": [],
   "source": [
    "import requests\n",
    "import numpy as np\n",
    "from pybtex.database.input import bibtex\n",
    "from bs4 import BeautifulSoup as bs\n",
    "import os\n",
    "import glob"
   ]
  },
  {
   "cell_type": "code",
   "execution_count": 2,
   "metadata": {},
   "outputs": [],
   "source": [
    "def convertAddressBing(address):\n",
    "    # The bounds parameter defines the latitude/longitude coordinates\n",
    "    # of the southwest and northeast corners of this bounding box\n",
    "    API_KEY = \"USE_YOUR_OWN_KEY\"\n",
    "    params = {\n",
    "        'addressLine': address,\n",
    "        'key': API_KEY,\n",
    "        'strictMatch': 1,\n",
    "    }\n",
    "    baseurl = \"http://dev.virtualearth.net/REST/v1/Locations?\"\n",
    "    res = requests.get(baseurl, params=params).json()\n",
    "    if \"errorDetails\" in res.keys():\n",
    "        print(res[\"errorDetails\"])\n",
    "        return np.NAN, np.NAN, np.NAN\n",
    "    elif res['resourceSets'][0]['estimatedTotal'] == 0:\n",
    "        return np.NAN, np.NAN, np.NAN\n",
    "    else:\n",
    "        lat, long = res['resourceSets'][0]['resources'][0]['point']['coordinates']\n",
    "        found_address = res['resourceSets'][0]['resources'][0][\"name\"]\n",
    "        return lat, long, found_address\n",
    "\n",
    "def conference_info(cite_name):\n",
    "    parser = bibtex.Parser()\n",
    "    bibdata = parser.parse_file(cite_name)\n",
    "    conference_obj = None\n",
    "    for bib_id in bibdata.entries:\n",
    "        b = bibdata.entries[bib_id].fields\n",
    "        conference_obj = {\n",
    "            \"title\": b[\"title\"],\n",
    "            \"conference\": b[\"booktitle\"],\n",
    "            \"year\": b[\"year\"],\n",
    "            \"location\": b[\"location\"]\n",
    "        }\n",
    "        author_list = []\n",
    "        for author in bibdata.entries[bib_id].persons[\"author\"]:\n",
    "            author_names = []\n",
    "            author_info = [author.first_names, author.middle_names, author.last_names]\n",
    "            for i in author_info:\n",
    "                if len(i) > 0:\n",
    "                    author_names.append(i[0])\n",
    "            author_name = \" \".join(author_names)\n",
    "            author_list.append(author_name)\n",
    "        conference_obj[\"authors\"] = author_list\n",
    "    return conference_obj\n",
    "\n",
    "def generate_html_text(cite_name, match_name=\"Zongrun Li\"):\n",
    "    conference_obj = conference_info(cite_name)\n",
    "    html_text = \"\"\"\n",
    "                <li>\n",
    "                    <div class=\"conference-title\">\n",
    "                        %s\n",
    "                    </div>\n",
    "            \"\"\" % conference_obj[\"title\"]\n",
    "\n",
    "    for i in range(0, len(conference_obj[\"authors\"])):\n",
    "        author = conference_obj[\"authors\"][i]\n",
    "        if author == match_name:\n",
    "            html_text += \"<strong>\" + match_name + \"</strong>\"\n",
    "        else:\n",
    "            html_text += author\n",
    "        \n",
    "        if i != len(conference_obj[\"authors\"]) - 1:\n",
    "            html_text += \", \"\n",
    "    \n",
    "    html_text += \"\"\"\n",
    "        <br><em>%s</em>, %s\n",
    "        <br>\n",
    "    </li>\n",
    "    \"\"\"% (conference_obj[\"conference\"], conference_obj[\"year\"])\n",
    "    \n",
    "    soup = bs(html_text)\n",
    "    html_text = soup.prettify()\n",
    "    return html_text"
   ]
  },
  {
   "cell_type": "code",
   "execution_count": 3,
   "metadata": {},
   "outputs": [
    {
     "name": "stdout",
     "output_type": "stream",
     "text": [
      "Baltimore, MD Baltimore Ave, Baltimore, MD 21222\n",
      "Denver, CO CO-2, Denver, CO 80246\n",
      "Chapel Hill, NC Chapel Hill Creamery Rd, Chapel Hill, NC 27516\n",
      "Chapel Hill, NC Chapel Hill Creamery Rd, Chapel Hill, NC 27516\n"
     ]
    }
   ],
   "source": [
    "# create JS\n",
    "# ['Baltimore, MD, USA', 39.28870812, -76.63482396, '<div class=\"conference-title\">Modeling the Regional Air Quality Impacts of Prescribed Burning at a Military Base in Southeastern United States</div><strong>Zongrun Li</strong>, <a>Yongtao Hu</a>, <a>M Talat Odman</a>, <a>Armistead G Russell</a><br><em>American Meteorological Society 103rd Annual Meeting</em>, 2024']\n",
    "# process location and cluster locations\n",
    "talks_folder_relative = \"./talks\"\n",
    "sub_paths = glob.glob(os.path.join(talks_folder_relative, '*'))\n",
    "locations = {}\n",
    "for cur_path in sub_paths:\n",
    "    location_name = conference_info(cur_path)[\"location\"]\n",
    "    lat, lon, bing_name = convertAddressBing(location_name)\n",
    "    # locations.append((lon, lat))\n",
    "    print(\"%s %s\" % (location_name, bing_name))\n",
    "    if (lon, lat) in locations.keys():\n",
    "        locations[(lon, lat)][\"file\"].append(cur_path)\n",
    "    else:\n",
    "        locations[(lon, lat)] = {\"file\": [cur_path], \"name\": location_name}"
   ]
  },
  {
   "cell_type": "code",
   "execution_count": 4,
   "metadata": {},
   "outputs": [
    {
     "name": "stdout",
     "output_type": "stream",
     "text": [
      "['Baltimore, MD', 39.258417, -76.5259275, '<li>\\n <div class=\"conference-title\">\\n  Comparisons of High-Spatiotemporal Resolution Air Quality Modeling Systems for Simulating Prescribed Burning at Military Bases in the Southeastern United States\\n </div>\\n <strong>\\n  Zongrun Li\\n </strong>\\n , M Talat Odman, Yongtao Hu, Susan O’Neill, Rime El, L Gregory Huey, David Tanner, Rodney J Weber, Armistead G Russell\\n <br/>\\n <em>\\n  American Meteorological Society 104th Annual Meeting\\n </em>\\n , 2024\\n <br/>\\n</li>\\n'], \n",
      "['Denver, CO', 39.6964363, -104.9405432, '<li>\\n <div class=\"conference-title\">\\n  Modeling the Regional Air Quality Impacts of Prescribed Burning at a Military Base in Southeastern United States\\n </div>\\n <strong>\\n  Zongrun Li\\n </strong>\\n , Yongtao Hu, M Talat Odman, Armistead G Russell\\n <br/>\\n <em>\\n  American Meteorological Society 103rd Annual Meeting\\n </em>\\n , 2023\\n <br/>\\n</li>\\n'], \n",
      "['Chapel Hill, NC', 35.93653646, -79.12412823, '<li>\\n <div class=\"conference-title\">\\n  Integrating Fire Behavior Models and Chemical Transport Models: A case study of Coupling WRF-SFIRE with CMAQ\\n </div>\\n <strong>\\n  Zongrun Li\\n </strong>\\n , M Talat Odman, Yongtao Hu, Armistead G Russell\\n <br/>\\n <em>\\n  Community Modeling and Analysis System Conference\\n </em>\\n , 2023\\n <br/>\\n</li>\\n<li>\\n <div class=\"conference-title\">\\n  Comparisons of Air Quality Models for Prescribed Burning Simulations at a Military Base in Southeastern United States\\n </div>\\n <strong>\\n  Zongrun Li\\n </strong>\\n , M Talat Odman, Yongtao Hu, Armistead G Russell\\n <br/>\\n <em>\\n  Community Modeling and Analysis System Conference\\n </em>\\n , 2022\\n <br/>\\n</li>\\n'], \n"
     ]
    }
   ],
   "source": [
    "# generate js variable\n",
    "for location in locations.keys():\n",
    "    cur_lon, cur_lat = location\n",
    "    cur_info = locations[location]\n",
    "    cur_list = [cur_info[\"name\"], cur_lat, cur_lon]\n",
    "    html_txt = \"\"\n",
    "    for file in cur_info[\"file\"]:\n",
    "        cur_html = generate_html_text(file)\n",
    "        html_txt += cur_html\n",
    "    cur_list.append(html_txt)\n",
    "    print(cur_list, end=\", \\n\")"
   ]
  }
 ],
 "metadata": {
  "kernelspec": {
   "display_name": "DataAnalysis",
   "language": "python",
   "name": "python3"
  },
  "language_info": {
   "codemirror_mode": {
    "name": "ipython",
    "version": 3
   },
   "file_extension": ".py",
   "mimetype": "text/x-python",
   "name": "python",
   "nbconvert_exporter": "python",
   "pygments_lexer": "ipython3",
   "version": "3.8.5"
  }
 },
 "nbformat": 4,
 "nbformat_minor": 2
}
