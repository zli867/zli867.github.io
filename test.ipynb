{
 "cells": [
  {
   "cell_type": "code",
   "execution_count": null,
   "id": "26d2dafc",
   "metadata": {},
   "outputs": [
    {
     "name": "stdout",
     "output_type": "stream",
     "text": [
      "Reading BibTeX file...\n",
      "Loaded 87 entries.\n",
      "🔍 Searching: Elucidating multipollutant exposure across a complex metropolitan area by systematic deployment of a mobile laboratory\n"
     ]
    }
   ],
   "source": [
    "from scholarly import scholarly\n",
    "import bibtexparser\n",
    "from bibtexparser.bwriter import BibTexWriter\n",
    "import time\n",
    "\n",
    "input_file = \"/Users/zongrunli/Desktop/My EndNote Library.txt\"\n",
    "output_file = \"/Users/zongrunli/Desktop/corrected_refs.txt\"\n",
    "\n",
    "print(\"Reading BibTeX file...\")\n",
    "with open(input_file, 'r') as bibtex_file:\n",
    "    bib_database = bibtexparser.load(bibtex_file)\n",
    "print(f\"Loaded {len(bib_database.entries)} entries.\")\n",
    "\n",
    "def correct_entry(entry):\n",
    "    if 'title' not in entry:\n",
    "        return entry\n",
    "    title = entry['title'].strip('{}')\n",
    "    print(f\"🔍 Searching: {title}\")\n",
    "    \n",
    "    try:\n",
    "        search_query = scholarly.search_pubs(title)\n",
    "        pub = next(search_query)\n",
    "        corrected_bib = scholarly.bibtex(pub)\n",
    "        corrected_entry = bibtexparser.loads(corrected_bib).entries[0]\n",
    "        corrected_entry['ID'] = entry['ID']\n",
    "        print(f\"✅ Corrected: {entry['ID']}\")\n",
    "        return corrected_entry\n",
    "    except Exception as e:\n",
    "        print(f\"❌ Could not correct {entry['ID']}: {e}\")\n",
    "        return entry\n",
    "\n",
    "# Try just one entry to test\n",
    "corrected_entries = []\n",
    "for i in range(0,len(bib_database.entries)):\n",
    "    corrected_entry = correct_entry(bib_database.entries[i])\n",
    "    corrected_entries.append(corrected_entry)\n",
    "\n",
    "# Save\n",
    "writer = BibTexWriter()\n",
    "with open(output_file, 'w') as bibtex_out:\n",
    "    bibtex_out.write(writer.write(bibtexparser.bibdatabase.BibDatabase(entries=corrected_entries)))\n",
    "\n",
    "print(f\"✅ Saved corrected entry to {output_file}\")\n"
   ]
  }
 ],
 "metadata": {
  "kernelspec": {
   "display_name": "scholar",
   "language": "python",
   "name": "python3"
  },
  "language_info": {
   "codemirror_mode": {
    "name": "ipython",
    "version": 3
   },
   "file_extension": ".py",
   "mimetype": "text/x-python",
   "name": "python",
   "nbconvert_exporter": "python",
   "pygments_lexer": "ipython3",
   "version": "3.11.13"
  }
 },
 "nbformat": 4,
 "nbformat_minor": 5
}
